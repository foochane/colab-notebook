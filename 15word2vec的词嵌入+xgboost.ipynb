{
 "cells": [
  {
   "cell_type": "code",
   "execution_count": 1,
   "metadata": {},
   "outputs": [],
   "source": [
    "import codecs\n",
    "import gensim\n",
    "from sklearn import  preprocessing\n",
    "from sklearn.preprocessing import LabelEncoder\n",
    "import numpy as np\n",
    "import xgboost as xgb\n",
    "from tqdm import tqdm"
   ]
  },
  {
   "cell_type": "markdown",
   "metadata": {},
   "source": [
    "##  1 数据准备"
   ]
  },
  {
   "cell_type": "code",
   "execution_count": 2,
   "metadata": {},
   "outputs": [],
   "source": [
    "# !wget https://raw.githubusercontent.com/foochane/text-classification/master/output/data_clean_split.txt"
   ]
  },
  {
   "cell_type": "code",
   "execution_count": 3,
   "metadata": {},
   "outputs": [],
   "source": [
    "# 读取数据\n",
    "labels = []\n",
    "text = []\n",
    "with codecs.open('output/data_clean_split.txt','r',encoding='utf-8') as f:\n",
    "    document_split = f.readlines()\n",
    "    for document in document_split:\n",
    "        temp = document.split('\\t')\n",
    "        labels.append(temp[0])\n",
    "        text.append(temp[1].strip())  \n",
    "\n",
    "# 标签转换为数字\n",
    "label_encoder = LabelEncoder()\n",
    "y = label_encoder.fit_transform(labels)\n",
    "\n",
    "# 将每个句子切分成单个词\n",
    "text_s2w= [s.split() for s in text]"
   ]
  },
  {
   "cell_type": "markdown",
   "metadata": {},
   "source": [
    "## 2 构建word2vec模型\n",
    "\n",
    "### 2.1 训练word2vec模型\n"
   ]
  },
  {
   "cell_type": "code",
   "execution_count": 4,
   "metadata": {},
   "outputs": [],
   "source": [
    "model = gensim.models.Word2Vec(text_s2w,\n",
    "                               min_count=5,\n",
    "                               workers=6,\n",
    "                               window =8,\n",
    "                               size=100)"
   ]
  },
  {
   "cell_type": "markdown",
   "metadata": {},
   "source": [
    "参数说明：\n",
    "\n",
    "- min_count: 对于词频 < min_count 的单词，将舍弃（其实最合适的方法是用 UNK 符号代替，即所谓的『未登录词』，这里我们简化起见，认为此类低频词不重要，直接抛弃）\n",
    "\n",
    "- workers: 可以并行执行的核心数，需要安装 Cython 才能起作用（安装 Cython 的方法很简单，直接 pip install cython）\n",
    "\n",
    "size: 词向量的维度，神经网络隐层节点数\n",
    "\n",
    "- window: 目标词汇的上下文单词距目标词的最长距离，很好理解，比如 CBOW 模型是用一个词的上下文预测这个词，那这个上下文总得有个限制，如果取得太多，距离目标词太远，有些词就没啥意义了，而如果取得太少，又信息不足，所以 window 就是上下文的一个最长距离"
   ]
  },
  {
   "cell_type": "markdown",
   "metadata": {},
   "source": [
    "### 2.2 word2vec模型的简单使用\n",
    "#### 2.2.1 构建词建词嵌入字典"
   ]
  },
  {
   "cell_type": "code",
   "execution_count": 5,
   "metadata": {},
   "outputs": [
    {
     "name": "stdout",
     "output_type": "stream",
     "text": [
      "Found 87117 word vectors.\n"
     ]
    }
   ],
   "source": [
    "\n",
    "embeddings_index = dict(zip(model.wv.index2word, model.wv.vectors))\n",
    "print('Found %s word vectors.' % len(embeddings_index))"
   ]
  },
  {
   "cell_type": "markdown",
   "metadata": {},
   "source": [
    "### 2.2.2 获取某个词的向量"
   ]
  },
  {
   "cell_type": "code",
   "execution_count": 6,
   "metadata": {},
   "outputs": [
    {
     "name": "stderr",
     "output_type": "stream",
     "text": [
      "/home/ubuntu/anaconda3/lib/python3.7/site-packages/ipykernel_launcher.py:1: DeprecationWarning: Call to deprecated `__getitem__` (Method will be removed in 4.0.0, use self.wv.__getitem__() instead).\n",
      "  \"\"\"Entry point for launching an IPython kernel.\n"
     ]
    },
    {
     "data": {
      "text/plain": [
       "array([-2.240292  , -1.1615268 , -1.4746077 ,  2.1054246 ,  4.819405  ,\n",
       "       -3.1492457 , -0.05073776, -2.1645617 , -1.2719896 ,  1.7608824 ,\n",
       "       -0.2626409 , -0.64887804,  1.3482507 ,  0.34045577,  1.4765079 ,\n",
       "       -3.445696  ,  1.449008  , -0.09463242,  0.6401563 , -1.6335047 ,\n",
       "       -0.30473268,  2.6725786 , -0.1342183 ,  0.27526513, -2.4943345 ,\n",
       "        0.27751288, -1.9030106 , -0.2115223 ,  0.48280153,  2.8040369 ,\n",
       "        1.4369518 , -1.6659547 ,  0.6498365 ,  3.1322846 , -1.7274039 ,\n",
       "       -0.4276681 ,  2.0273833 , -1.2563524 , -2.2891238 ,  0.80385494,\n",
       "       -0.8380016 , -1.1951414 ,  0.21576834, -1.8307697 ,  1.4016038 ,\n",
       "       -0.07672032,  0.97227174,  1.3520627 ,  0.568014  , -1.914469  ,\n",
       "       -1.1551676 ,  0.7751831 ,  0.7154037 ,  1.2694645 ,  1.9431589 ,\n",
       "       -0.06259096,  3.4280195 ,  0.6663932 , -2.665189  ,  0.6598596 ,\n",
       "       -0.07868402, -0.5291124 ,  1.8237985 , -0.7853107 , -0.16555293,\n",
       "       -2.074671  , -0.87207425,  0.7680195 ,  0.40575528,  0.29356548,\n",
       "       -2.8064344 , -2.5557816 , -1.554487  , -2.7589092 , -0.35392886,\n",
       "       -0.6011241 , -0.31734776, -1.1346784 ,  0.1052264 ,  0.57027906,\n",
       "        1.1536218 ,  2.066991  , -1.1962171 ,  1.0027347 ,  0.40441233,\n",
       "        2.2641828 , -2.0621223 ,  2.0815525 ,  3.5621598 , -0.4967822 ,\n",
       "       -0.717848  ,  3.1545784 ,  1.1730249 ,  1.3114505 , -0.36371502,\n",
       "       -0.41231316, -2.3199863 , -0.10876293, -0.44529822, -2.18213   ],\n",
       "      dtype=float32)"
      ]
     },
     "execution_count": 6,
     "metadata": {},
     "output_type": "execute_result"
    }
   ],
   "source": [
    "model['汽车']"
   ]
  },
  {
   "cell_type": "markdown",
   "metadata": {},
   "source": [
    "### 2.2.3 查看某个词的与其他词的相似度"
   ]
  },
  {
   "cell_type": "code",
   "execution_count": 7,
   "metadata": {},
   "outputs": [
    {
     "name": "stderr",
     "output_type": "stream",
     "text": [
      "/home/ubuntu/anaconda3/lib/python3.7/site-packages/ipykernel_launcher.py:1: DeprecationWarning: Call to deprecated `most_similar` (Method will be removed in 4.0.0, use self.wv.most_similar() instead).\n",
      "  \"\"\"Entry point for launching an IPython kernel.\n"
     ]
    },
    {
     "data": {
      "text/plain": [
       "[('光明日报', 0.8604782223701477),\n",
       " ('海外版', 0.8062193393707275),\n",
       " ('年月日', 0.7948733568191528),\n",
       " ('经济日报', 0.7898619174957275),\n",
       " ('文汇报', 0.7830426692962646),\n",
       " ('社论', 0.7795723676681519),\n",
       " ('评论员', 0.765376091003418),\n",
       " ('中国作协', 0.7639801502227783),\n",
       " ('讲话', 0.7555620670318604),\n",
       " ('第五次', 0.7492089867591858)]"
      ]
     },
     "execution_count": 7,
     "metadata": {},
     "output_type": "execute_result"
    }
   ],
   "source": [
    "model.most_similar('人民日报')"
   ]
  },
  {
   "cell_type": "markdown",
   "metadata": {},
   "source": [
    "### 2.2.4 保存模型"
   ]
  },
  {
   "cell_type": "code",
   "execution_count": 8,
   "metadata": {},
   "outputs": [],
   "source": [
    "model.save('/tmp/w2v_model')"
   ]
  },
  {
   "cell_type": "markdown",
   "metadata": {},
   "source": [
    "### 2.2.5 加载模型"
   ]
  },
  {
   "cell_type": "code",
   "execution_count": 9,
   "metadata": {},
   "outputs": [],
   "source": [
    "model_load = gensim.models.Word2Vec.load('/tmp/w2v_model')"
   ]
  },
  {
   "cell_type": "markdown",
   "metadata": {},
   "source": [
    "## 3 训练数据处理\n",
    "\n"
   ]
  },
  {
   "cell_type": "code",
   "execution_count": 10,
   "metadata": {},
   "outputs": [],
   "source": [
    "#该函数会将语句转化为一个标准化的向量（Normalized Vector）\n",
    "def sent2vec(s):\n",
    "    \"\"\"\n",
    "    将每个句子转换会一个100的向量\n",
    "    \"\"\"\n",
    "    words = s.split()\n",
    "    M = []\n",
    "    for w in words:\n",
    "        try:\n",
    "            #M.append(embeddings_index[w])\n",
    "            M.append(model[w])\n",
    "        except:\n",
    "            continue\n",
    "    M = np.array(M)  # shape=(x,100),x是句子中词的个数，100是每个词向量的维数\n",
    "    v = M.sum(axis=0) # 维度是100，对M中的x个数求和，得到每一维度的总和\n",
    "    if type(v) != np.ndarray: \n",
    "        return np.zeros(100)\n",
    "    \n",
    "    return v / np.sqrt((v ** 2).sum()) # 正则化，最后每个句子都变为一100维的向量"
   ]
  },
  {
   "cell_type": "code",
   "execution_count": 11,
   "metadata": {},
   "outputs": [
    {
     "name": "stderr",
     "output_type": "stream",
     "text": [
      "  0%|          | 0/9249 [00:00<?, ?it/s]/home/ubuntu/anaconda3/lib/python3.7/site-packages/ipykernel_launcher.py:11: DeprecationWarning: Call to deprecated `__getitem__` (Method will be removed in 4.0.0, use self.wv.__getitem__() instead).\n",
      "  # This is added back by InteractiveShellApp.init_path()\n",
      "100%|██████████| 9249/9249 [01:11<00:00, 129.79it/s]\n"
     ]
    }
   ],
   "source": [
    "# 对训练集和验证集使用上述函数，进行文本向量化处理\n",
    "text_s2v = [sent2vec(s) for s in tqdm(text)]\n",
    "\n",
    "# 转换成numpy array数组\n",
    "text_s2v = np.array(text_s2v)\n",
    "\n",
    "# 切分数据集\n",
    "from sklearn.model_selection import train_test_split\n",
    "x_train_w2v, x_valid_w2v, y_train, y_valid = train_test_split(text_s2v, y, \n",
    "                                                  stratify=y, \n",
    "                                                  random_state=42, \n",
    "                                                  test_size=0.1, shuffle=True)"
   ]
  },
  {
   "cell_type": "markdown",
   "metadata": {},
   "source": [
    "## 4 调用模型进行分类"
   ]
  },
  {
   "cell_type": "code",
   "execution_count": 12,
   "metadata": {},
   "outputs": [],
   "source": [
    "# 定义损失函数\n",
    "def multiclass_logloss(actual, predicted, eps=1e-15):\n",
    "    \"\"\"对数损失度量（Logarithmic Loss  Metric）的多分类版本。\n",
    "    :param actual: 包含actual target classes的数组\n",
    "    :param predicted: 分类预测结果矩阵, 每个类别都有一个概率\n",
    "    \"\"\"\n",
    "    # Convert 'actual' to a binary array if it's not already:\n",
    "    if len(actual.shape) == 1:\n",
    "        actual2 = np.zeros((actual.shape[0], predicted.shape[1]))\n",
    "        for i, val in enumerate(actual):\n",
    "            actual2[i, val] = 1\n",
    "        actual = actual2\n",
    "\n",
    "    clip = np.clip(predicted, eps, 1 - eps)\n",
    "    rows = actual.shape[0]\n",
    "    vsota = np.sum(actual * np.log(clip))\n",
    "    return -1.0 / rows * vsota"
   ]
  },
  {
   "cell_type": "code",
   "execution_count": 13,
   "metadata": {},
   "outputs": [
    {
     "name": "stdout",
     "output_type": "stream",
     "text": [
      "logloss: 0.367 \n"
     ]
    }
   ],
   "source": [
    "# 基于word2vec特征在一个简单的Xgboost模型上进行拟合\n",
    "clf = xgb.XGBClassifier(max_depth=7, n_estimators=200, colsample_bytree=0.8, \n",
    "                        subsample=0.8, nthread=10, learning_rate=0.1, silent=False)\n",
    "clf.fit(x_train_w2v, y_train)\n",
    "predictions = clf.predict_proba(x_valid_w2v)\n",
    "\n",
    "print (\"logloss: %0.3f \" % multiclass_logloss(y_valid, predictions))"
   ]
  },
  {
   "cell_type": "markdown",
   "metadata": {},
   "source": [
    "\n",
    "size = 100: logloss: 0.375 /0.368 "
   ]
  }
 ],
 "metadata": {
  "kernelspec": {
   "display_name": "Python 3",
   "language": "python",
   "name": "python3"
  },
  "language_info": {
   "codemirror_mode": {
    "name": "ipython",
    "version": 3
   },
   "file_extension": ".py",
   "mimetype": "text/x-python",
   "name": "python",
   "nbconvert_exporter": "python",
   "pygments_lexer": "ipython3",
   "version": "3.7.3"
  }
 },
 "nbformat": 4,
 "nbformat_minor": 2
}
