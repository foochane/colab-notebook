{
 "cells": [
  {
   "cell_type": "code",
   "execution_count": 1,
   "metadata": {},
   "outputs": [],
   "source": [
    "import codecs\n",
    "import gensim\n",
    "from sklearn import  preprocessing\n",
    "from sklearn.preprocessing import LabelEncoder\n",
    "import numpy as np\n",
    "import xgboost as xgb\n",
    "from tqdm import tqdm"
   ]
  },
  {
   "cell_type": "markdown",
   "metadata": {},
   "source": [
    "##  1 数据准备"
   ]
  },
  {
   "cell_type": "code",
   "execution_count": 2,
   "metadata": {},
   "outputs": [],
   "source": [
    "# !wget https://raw.githubusercontent.com/foochane/text-classification/master/output/data_clean_split.txt"
   ]
  },
  {
   "cell_type": "code",
   "execution_count": 3,
   "metadata": {},
   "outputs": [],
   "source": [
    "# 读取数据\n",
    "labels = []\n",
    "text = []\n",
    "with codecs.open('output/data_clean_split.txt','r',encoding='utf-8') as f:\n",
    "    document_split = f.readlines()\n",
    "    for document in document_split:\n",
    "        temp = document.split('\\t')\n",
    "        labels.append(temp[0])\n",
    "        text.append(temp[1].strip())  \n",
    "\n",
    "# 标签转换为数字\n",
    "label_encoder = LabelEncoder()\n",
    "y = label_encoder.fit_transform(labels)\n",
    "\n",
    "# 将每个句子切分成单个词\n",
    "text_s2w= [s.split() for s in text]"
   ]
  },
  {
   "cell_type": "markdown",
   "metadata": {},
   "source": [
    "## 2 构建word2vec模型\n",
    "\n",
    "### 2.1 训练word2vec模型\n"
   ]
  },
  {
   "cell_type": "code",
   "execution_count": 4,
   "metadata": {},
   "outputs": [],
   "source": [
    "model = gensim.models.Word2Vec(text_s2w,\n",
    "                               min_count=5,\n",
    "                               workers=6,\n",
    "                               window =8,\n",
    "                               size=200)"
   ]
  },
  {
   "cell_type": "markdown",
   "metadata": {},
   "source": [
    "参数说明：\n",
    "\n",
    "- min_count: 对于词频 < min_count 的单词，将舍弃（其实最合适的方法是用 UNK 符号代替，即所谓的『未登录词』，这里我们简化起见，认为此类低频词不重要，直接抛弃）\n",
    "\n",
    "- workers: 可以并行执行的核心数，需要安装 Cython 才能起作用（安装 Cython 的方法很简单，直接 pip install cython）\n",
    "\n",
    "size: 词向量的维度，神经网络隐层节点数\n",
    "\n",
    "- window: 目标词汇的上下文单词距目标词的最长距离，很好理解，比如 CBOW 模型是用一个词的上下文预测这个词，那这个上下文总得有个限制，如果取得太多，距离目标词太远，有些词就没啥意义了，而如果取得太少，又信息不足，所以 window 就是上下文的一个最长距离"
   ]
  },
  {
   "cell_type": "markdown",
   "metadata": {},
   "source": [
    "### 2.2 word2vec模型的简单使用\n",
    "#### 2.2.1 构建词建词嵌入字典"
   ]
  },
  {
   "cell_type": "code",
   "execution_count": 5,
   "metadata": {},
   "outputs": [
    {
     "name": "stdout",
     "output_type": "stream",
     "text": [
      "Found 87117 word vectors.\n"
     ]
    }
   ],
   "source": [
    "\n",
    "embeddings_index = dict(zip(model.wv.index2word, model.wv.vectors))\n",
    "print('Found %s word vectors.' % len(embeddings_index))"
   ]
  },
  {
   "cell_type": "markdown",
   "metadata": {},
   "source": [
    "### 2.2.2 获取某个词的向量"
   ]
  },
  {
   "cell_type": "code",
   "execution_count": 6,
   "metadata": {},
   "outputs": [
    {
     "name": "stderr",
     "output_type": "stream",
     "text": [
      "/home/ubuntu/anaconda3/lib/python3.7/site-packages/ipykernel_launcher.py:1: DeprecationWarning: Call to deprecated `__getitem__` (Method will be removed in 4.0.0, use self.wv.__getitem__() instead).\n",
      "  \"\"\"Entry point for launching an IPython kernel.\n"
     ]
    },
    {
     "data": {
      "text/plain": [
       "array([-0.91600686,  0.65269667,  0.7890408 ,  0.2989293 , -0.6410602 ,\n",
       "       -0.7721046 ,  0.17112012, -1.7168757 , -0.26790395, -0.813138  ,\n",
       "        1.9748048 , -0.23864678, -1.7292303 ,  0.6713079 , -1.8142852 ,\n",
       "       -0.85701007, -0.6777396 ,  0.9430919 , -0.3778572 , -1.0770824 ,\n",
       "       -1.4120737 , -0.20698853, -1.0127343 ,  0.4006992 , -0.25051454,\n",
       "       -0.7961283 ,  1.0942363 , -1.0193537 , -1.0111535 , -0.7164076 ,\n",
       "        0.35792065,  0.71901995,  1.3802037 ,  0.6021403 ,  0.6371317 ,\n",
       "       -0.10652476, -0.5859538 , -0.42821026,  1.1720324 ,  2.0588932 ,\n",
       "        0.66107875,  0.71411633, -0.62187326,  0.06239692,  0.8000502 ,\n",
       "        1.743869  , -1.4786941 , -1.025975  , -0.80224764, -0.8246677 ,\n",
       "       -0.27273858,  0.38516802, -0.10491314,  0.00718853, -1.2467189 ,\n",
       "       -2.088165  ,  1.0662181 , -1.9617743 , -0.70589083,  1.4909247 ,\n",
       "        0.47113743,  0.4980447 ,  0.85836077,  0.06246256,  1.0078732 ,\n",
       "        0.58501107, -0.7112168 ,  1.296002  , -0.7704843 ,  2.1827977 ,\n",
       "        1.1964055 ,  0.30837643,  2.4817424 , -0.1970305 , -0.7890416 ,\n",
       "        1.578678  , -1.2670863 , -0.36595187, -0.8283125 ,  1.7474804 ,\n",
       "       -1.2827518 ,  1.6489115 , -2.8752344 ,  1.610803  , -0.7829334 ,\n",
       "        0.02393723, -0.06981187, -0.31454793, -1.7481557 ,  0.67283285,\n",
       "       -0.59261894, -0.7439809 ,  2.545047  ,  2.209868  ,  0.9463522 ,\n",
       "       -0.51075006,  1.8168896 ,  0.36804482,  0.3704158 ,  0.7324877 ,\n",
       "       -0.31017992,  0.12737854, -1.0250102 ,  0.29802135,  1.6701144 ,\n",
       "       -1.1145056 , -0.07278571,  2.6010127 , -1.8523033 ,  0.33036175,\n",
       "       -0.7443735 ,  0.23144217,  2.573344  ,  0.97571427,  1.0500276 ,\n",
       "       -0.97943306,  0.42437452, -1.8886224 ,  1.6124902 , -0.16186492,\n",
       "       -2.3586214 , -2.027719  ,  1.3524156 ,  0.83735245,  0.06589452,\n",
       "       -1.0211983 ,  0.67085373, -0.44873905, -0.51375216,  1.1671786 ,\n",
       "       -0.8376123 ,  0.67428344, -1.1784413 ,  0.28508812, -1.3807055 ,\n",
       "       -0.3690824 ,  0.5601961 ,  0.00690535, -0.9264327 ,  0.2940694 ,\n",
       "       -0.48065412, -2.0398312 ,  0.22705404,  1.3125572 , -3.5422904 ,\n",
       "        1.4473256 , -0.2641944 , -0.18410738, -0.51694417, -0.7020206 ,\n",
       "        1.2349457 ,  2.2353504 ,  1.5991387 , -0.24114661,  0.94516724,\n",
       "       -0.21180183,  0.9359742 ,  0.8869705 , -1.1591953 , -1.4736689 ,\n",
       "       -1.2194806 ,  0.8670709 , -1.6205957 ,  0.7194977 , -0.27067223,\n",
       "       -1.1563144 , -0.62030625,  0.9325215 ,  1.0322621 ,  1.8582933 ,\n",
       "        0.00738433,  1.7159996 , -0.11224526,  1.7775692 , -0.8709095 ,\n",
       "        0.40936193, -1.064934  , -1.5960606 , -0.43620056, -1.7208487 ,\n",
       "        0.22996849,  1.2278135 ,  1.4281013 ,  0.25951   ,  0.9611567 ,\n",
       "        0.0319954 ,  1.3001628 , -0.51959944,  1.751617  , -0.011602  ,\n",
       "        2.15747   ,  0.4873452 , -1.5358163 , -2.0223467 , -0.9218156 ,\n",
       "        1.212944  , -0.21968296, -0.9732699 , -0.5464437 ,  2.4744885 ],\n",
       "      dtype=float32)"
      ]
     },
     "execution_count": 6,
     "metadata": {},
     "output_type": "execute_result"
    }
   ],
   "source": [
    "model['汽车']"
   ]
  },
  {
   "cell_type": "markdown",
   "metadata": {},
   "source": [
    "### 2.2.3 查看某个词的与其他词的相似度"
   ]
  },
  {
   "cell_type": "code",
   "execution_count": 7,
   "metadata": {},
   "outputs": [
    {
     "name": "stderr",
     "output_type": "stream",
     "text": [
      "/home/ubuntu/anaconda3/lib/python3.7/site-packages/ipykernel_launcher.py:1: DeprecationWarning: Call to deprecated `most_similar` (Method will be removed in 4.0.0, use self.wv.most_similar() instead).\n",
      "  \"\"\"Entry point for launching an IPython kernel.\n"
     ]
    },
    {
     "data": {
      "text/plain": [
       "[('光明日报', 0.8739441633224487),\n",
       " ('年月日', 0.8058885931968689),\n",
       " ('海外版', 0.8037006855010986),\n",
       " ('经济日报', 0.7827633619308472),\n",
       " ('中国青年报', 0.7719920873641968),\n",
       " ('社论', 0.7691082954406738),\n",
       " ('新民晚报', 0.761530876159668),\n",
       " ('解放日报', 0.7490832805633545),\n",
       " ('中国文联', 0.745826005935669),\n",
       " ('文汇报', 0.738906741142273)]"
      ]
     },
     "execution_count": 7,
     "metadata": {},
     "output_type": "execute_result"
    }
   ],
   "source": [
    "model.most_similar('人民日报')"
   ]
  },
  {
   "cell_type": "markdown",
   "metadata": {},
   "source": [
    "### 2.2.4 保存模型"
   ]
  },
  {
   "cell_type": "code",
   "execution_count": 8,
   "metadata": {},
   "outputs": [],
   "source": [
    "model.save('/tmp/w2v_model')"
   ]
  },
  {
   "cell_type": "markdown",
   "metadata": {},
   "source": [
    "### 2.2.5 加载模型"
   ]
  },
  {
   "cell_type": "code",
   "execution_count": 9,
   "metadata": {},
   "outputs": [],
   "source": [
    "model_load = gensim.models.Word2Vec.load('/tmp/w2v_model')"
   ]
  },
  {
   "cell_type": "markdown",
   "metadata": {},
   "source": [
    "## 3 训练数据处理\n",
    "\n"
   ]
  },
  {
   "cell_type": "code",
   "execution_count": 10,
   "metadata": {},
   "outputs": [],
   "source": [
    "#该函数会将语句转化为一个标准化的向量（Normalized Vector）\n",
    "def sent2vec(s):\n",
    "    \"\"\"\n",
    "    将每个句子转换会一个100的向量\n",
    "    \"\"\"\n",
    "    words = s.split()\n",
    "    M = []\n",
    "    for w in words:\n",
    "        try:\n",
    "            #M.append(embeddings_index[w])\n",
    "            M.append(model[w])\n",
    "        except:\n",
    "            continue\n",
    "    M = np.array(M)  # shape=(x,100),x是句子中词的个数，100是每个词向量的维数\n",
    "    v = M.sum(axis=0) # 维度是100，对M中的x个数求和，得到每一维度的总和\n",
    "    if type(v) != np.ndarray: \n",
    "        return np.zeros(200)\n",
    "        print(\"np.zeros(200)\")\n",
    "    \n",
    "    return v / np.sqrt((v ** 2).sum()) # 正则化，最后每个句子都变为一100维的向量"
   ]
  },
  {
   "cell_type": "code",
   "execution_count": 11,
   "metadata": {},
   "outputs": [
    {
     "name": "stderr",
     "output_type": "stream",
     "text": [
      "  0%|          | 0/9249 [00:00<?, ?it/s]/home/ubuntu/anaconda3/lib/python3.7/site-packages/ipykernel_launcher.py:11: DeprecationWarning: Call to deprecated `__getitem__` (Method will be removed in 4.0.0, use self.wv.__getitem__() instead).\n",
      "  # This is added back by InteractiveShellApp.init_path()\n",
      "100%|██████████| 9249/9249 [01:05<00:00, 142.16it/s]\n"
     ]
    }
   ],
   "source": [
    "# 对训练集和验证集使用上述函数，进行文本向量化处理\n",
    "text_s2v = [sent2vec(s) for s in tqdm(text)]\n",
    "\n",
    "# 转换成numpy array数组\n",
    "text_s2v = np.array(text_s2v)\n",
    "\n",
    "# 切分数据集\n",
    "from sklearn.model_selection import train_test_split\n",
    "x_train_w2v, x_valid_w2v, y_train, y_valid = train_test_split(text_s2v, y, \n",
    "                                                  stratify=y, \n",
    "                                                  random_state=42, \n",
    "                                                  test_size=0.1, shuffle=True)"
   ]
  },
  {
   "cell_type": "markdown",
   "metadata": {},
   "source": [
    "## 4 调用模型进行分类"
   ]
  },
  {
   "cell_type": "code",
   "execution_count": 12,
   "metadata": {},
   "outputs": [],
   "source": [
    "# 定义损失函数\n",
    "def multiclass_logloss(actual, predicted, eps=1e-15):\n",
    "    \"\"\"对数损失度量（Logarithmic Loss  Metric）的多分类版本。\n",
    "    :param actual: 包含actual target classes的数组\n",
    "    :param predicted: 分类预测结果矩阵, 每个类别都有一个概率\n",
    "    \"\"\"\n",
    "    # Convert 'actual' to a binary array if it's not already:\n",
    "    if len(actual.shape) == 1:\n",
    "        actual2 = np.zeros((actual.shape[0], predicted.shape[1]))\n",
    "        for i, val in enumerate(actual):\n",
    "            actual2[i, val] = 1\n",
    "        actual = actual2\n",
    "\n",
    "    clip = np.clip(predicted, eps, 1 - eps)\n",
    "    rows = actual.shape[0]\n",
    "    vsota = np.sum(actual * np.log(clip))\n",
    "    return -1.0 / rows * vsota"
   ]
  },
  {
   "cell_type": "code",
   "execution_count": 13,
   "metadata": {},
   "outputs": [
    {
     "name": "stdout",
     "output_type": "stream",
     "text": [
      "logloss: 0.390 \n"
     ]
    }
   ],
   "source": [
    "# 基于word2vec特征在一个简单的Xgboost模型上进行拟合\n",
    "clf = xgb.XGBClassifier(max_depth=7, n_estimators=200, colsample_bytree=0.8, \n",
    "                        subsample=0.8, nthread=10, learning_rate=0.1, silent=False)\n",
    "clf.fit(x_train_w2v, y_train)\n",
    "predictions = clf.predict_proba(x_valid_w2v)\n",
    "\n",
    "print (\"logloss: %0.3f \" % multiclass_logloss(y_valid, predictions))"
   ]
  },
  {
   "cell_type": "markdown",
   "metadata": {},
   "source": [
    "\n",
    "size = 100: logloss: 0.375 /0.368 "
   ]
  }
 ],
 "metadata": {
  "kernelspec": {
   "display_name": "Python 3",
   "language": "python",
   "name": "python3"
  },
  "language_info": {
   "codemirror_mode": {
    "name": "ipython",
    "version": 3
   },
   "file_extension": ".py",
   "mimetype": "text/x-python",
   "name": "python",
   "nbconvert_exporter": "python",
   "pygments_lexer": "ipython3",
   "version": "3.7.3"
  }
 },
 "nbformat": 4,
 "nbformat_minor": 2
}
