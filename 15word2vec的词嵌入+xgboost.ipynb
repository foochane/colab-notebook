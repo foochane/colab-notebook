{
  "nbformat": 4,
  "nbformat_minor": 0,
  "metadata": {
    "kernelspec": {
      "display_name": "Python 3",
      "language": "python",
      "name": "python3"
    },
    "language_info": {
      "codemirror_mode": {
        "name": "ipython",
        "version": 3
      },
      "file_extension": ".py",
      "mimetype": "text/x-python",
      "name": "python",
      "nbconvert_exporter": "python",
      "pygments_lexer": "ipython3",
      "version": "3.7.3"
    },
    "colab": {
      "name": "15word2vec的词嵌入+xgboost.ipynb",
      "version": "0.3.2",
      "provenance": [],
      "toc_visible": true,
      "include_colab_link": true
    }
  },
  "cells": [
    {
      "cell_type": "markdown",
      "metadata": {
        "id": "view-in-github",
        "colab_type": "text"
      },
      "source": [
        "<a href=\"https://colab.research.google.com/github/foochane/text-classification/blob/master/15word2vec%E7%9A%84%E8%AF%8D%E5%B5%8C%E5%85%A5%2Bxgboost.ipynb\" target=\"_parent\"><img src=\"https://colab.research.google.com/assets/colab-badge.svg\" alt=\"Open In Colab\"/></a>"
      ]
    },
    {
      "cell_type": "code",
      "metadata": {
        "id": "mJvHtv5bJim6",
        "colab_type": "code",
        "colab": {}
      },
      "source": [
        "import codecs\n",
        "import gensim\n",
        "from sklearn import  preprocessing\n",
        "from sklearn.preprocessing import LabelEncoder\n",
        "import numpy as np\n",
        "import xgboost as xgb\n",
        "from tqdm import tqdm"
      ],
      "execution_count": 0,
      "outputs": []
    },
    {
      "cell_type": "markdown",
      "metadata": {
        "id": "hC7L1k5IJinA",
        "colab_type": "text"
      },
      "source": [
        "##  1 数据准备"
      ]
    },
    {
      "cell_type": "code",
      "metadata": {
        "id": "mkFCoycdJinB",
        "colab_type": "code",
        "colab": {}
      },
      "source": [
        "import os \n",
        "if not os.path.exists('output'):\n",
        "    os.makedirs('output')\n",
        "if not os.path.exists('output/data_clean_split.txt'):\n",
        "  !wget -P ./output https://raw.githubusercontent.com/foochane/text-classification/master/output/data_clean_split.txt"
      ],
      "execution_count": 0,
      "outputs": []
    },
    {
      "cell_type": "code",
      "metadata": {
        "id": "uyP0VOOZJinE",
        "colab_type": "code",
        "colab": {}
      },
      "source": [
        "# 读取数据\n",
        "labels = []\n",
        "text = []\n",
        "with codecs.open('output/data_clean_split.txt','r',encoding='utf-8') as f:\n",
        "    document_split = f.readlines()\n",
        "    for document in document_split:\n",
        "        temp = document.split('\\t')\n",
        "        labels.append(temp[0])\n",
        "        text.append(temp[1].strip())  \n",
        "\n",
        "# 标签转换为数字\n",
        "label_encoder = LabelEncoder()\n",
        "y = label_encoder.fit_transform(labels)\n",
        "\n",
        "# 将每个句子切分成单个词\n",
        "text_s2w= [s.split() for s in text]"
      ],
      "execution_count": 0,
      "outputs": []
    },
    {
      "cell_type": "markdown",
      "metadata": {
        "id": "AE3WPrs8JinH",
        "colab_type": "text"
      },
      "source": [
        "## 2 构建word2vec模型\n",
        "\n",
        "### 2.1 训练word2vec模型\n"
      ]
    },
    {
      "cell_type": "code",
      "metadata": {
        "id": "En-nGDlvJinI",
        "colab_type": "code",
        "colab": {}
      },
      "source": [
        "model = gensim.models.Word2Vec(text_s2w,\n",
        "                               min_count=5,\n",
        "                               workers=6,\n",
        "                               window =8,\n",
        "                               size=100)"
      ],
      "execution_count": 0,
      "outputs": []
    },
    {
      "cell_type": "markdown",
      "metadata": {
        "id": "pEGcVN2kJinL",
        "colab_type": "text"
      },
      "source": [
        "参数说明：\n",
        "\n",
        "- min_count: 对于词频 < min_count 的单词，将舍弃（其实最合适的方法是用 UNK 符号代替，即所谓的『未登录词』，这里我们简化起见，认为此类低频词不重要，直接抛弃）\n",
        "\n",
        "- workers: 可以并行执行的核心数，需要安装 Cython 才能起作用（安装 Cython 的方法很简单，直接 pip install cython）\n",
        "\n",
        "size: 词向量的维度，神经网络隐层节点数\n",
        "\n",
        "- window: 目标词汇的上下文单词距目标词的最长距离，很好理解，比如 CBOW 模型是用一个词的上下文预测这个词，那这个上下文总得有个限制，如果取得太多，距离目标词太远，有些词就没啥意义了，而如果取得太少，又信息不足，所以 window 就是上下文的一个最长距离"
      ]
    },
    {
      "cell_type": "markdown",
      "metadata": {
        "id": "xhtP2L7gJinM",
        "colab_type": "text"
      },
      "source": [
        "### 2.2 word2vec模型的简单使用\n",
        "#### 2.2.1 构建词建词嵌入字典"
      ]
    },
    {
      "cell_type": "code",
      "metadata": {
        "id": "HbafZtafJinN",
        "colab_type": "code",
        "colab": {
          "base_uri": "https://localhost:8080/",
          "height": 34
        },
        "outputId": "9687ae6f-a177-43f4-f9db-e0168c39011c"
      },
      "source": [
        "embeddings_index = dict(zip(model.wv.index2word, model.wv.vectors))\n",
        "print('Found %s word vectors.' % len(embeddings_index))"
      ],
      "execution_count": 7,
      "outputs": [
        {
          "output_type": "stream",
          "text": [
            "Found 87117 word vectors.\n"
          ],
          "name": "stdout"
        }
      ]
    },
    {
      "cell_type": "markdown",
      "metadata": {
        "id": "ITENpqwwJinR",
        "colab_type": "text"
      },
      "source": [
        "### 2.2.2 获取某个词的向量"
      ]
    },
    {
      "cell_type": "code",
      "metadata": {
        "id": "GWLm81orJinS",
        "colab_type": "code",
        "colab": {
          "base_uri": "https://localhost:8080/",
          "height": 513
        },
        "outputId": "c43d8128-42a5-40ef-d5f6-1a0c6ba8d8f1"
      },
      "source": [
        "model['汽车']"
      ],
      "execution_count": 8,
      "outputs": [
        {
          "output_type": "stream",
          "text": [
            "/usr/local/lib/python3.6/dist-packages/ipykernel_launcher.py:1: DeprecationWarning: Call to deprecated `__getitem__` (Method will be removed in 4.0.0, use self.wv.__getitem__() instead).\n",
            "  \"\"\"Entry point for launching an IPython kernel.\n"
          ],
          "name": "stderr"
        },
        {
          "output_type": "execute_result",
          "data": {
            "text/plain": [
              "array([ 2.3111808e+00, -3.1423843e-01,  1.1657915e+00,  2.4726887e+00,\n",
              "        9.8205251e-01,  1.6136947e+00,  4.5870215e-02,  2.2275944e-01,\n",
              "       -5.8411784e-03,  6.1064994e-01,  1.2467331e+00, -2.3204267e+00,\n",
              "        1.2762122e+00, -5.2863240e-01, -1.5698267e+00, -5.5249399e-01,\n",
              "        1.2271531e+00, -7.8824210e-01, -7.0738721e-01, -2.9825904e+00,\n",
              "       -1.8991225e+00,  2.4633343e+00, -2.0911546e+00,  2.9926260e+00,\n",
              "       -7.1663857e-01,  7.0350718e-01, -3.7784261e-01,  2.0060134e+00,\n",
              "       -1.2401059e+00,  3.9565125e-03,  1.2215015e+00,  1.0248302e+00,\n",
              "        5.7203490e-01, -2.2812138e+00,  9.4041961e-01, -3.2780641e-01,\n",
              "        3.6779909e+00, -8.4591168e-01,  3.0106833e+00,  2.9739454e+00,\n",
              "        1.4285785e+00, -3.4431670e+00, -2.8534022e-01, -4.5611352e-01,\n",
              "        1.5401051e+00,  1.8888358e+00, -1.6028727e+00, -7.8392017e-01,\n",
              "        6.0268289e-01,  1.8838952e+00, -9.1625470e-01,  1.0150412e+00,\n",
              "        1.0806491e+00,  4.6332877e-02, -8.9380598e-01, -1.7845334e+00,\n",
              "        1.5340552e+00,  1.2427564e+00,  6.5070879e-01, -1.2416800e+00,\n",
              "        1.0074962e+00, -1.8043102e+00,  2.8829749e+00,  2.8226557e+00,\n",
              "        2.0770056e+00, -2.8612373e+00,  4.3352264e-01,  5.9327418e-01,\n",
              "        1.1568242e+00,  2.5393438e+00, -1.9932978e+00, -5.1003080e-02,\n",
              "        5.4327571e-01, -3.9868692e-01, -3.1778224e+00,  1.3483350e+00,\n",
              "        3.1701663e-01, -1.3688432e+00,  1.9616414e+00, -4.4229259e+00,\n",
              "       -1.1767340e+00,  2.9841375e+00,  1.4698910e+00,  1.9675394e+00,\n",
              "       -1.8530971e-01, -2.4091260e+00,  5.1924694e-01,  5.0669789e-02,\n",
              "       -1.3241837e+00, -1.2812642e+00, -9.6642214e-01, -1.3908656e+00,\n",
              "        7.3871469e-01, -4.3711457e-01, -1.6856626e+00,  1.6087885e+00,\n",
              "        1.9614281e-01,  7.0476723e-01,  1.9943355e+00, -1.6748781e+00],\n",
              "      dtype=float32)"
            ]
          },
          "metadata": {
            "tags": []
          },
          "execution_count": 8
        }
      ]
    },
    {
      "cell_type": "markdown",
      "metadata": {
        "id": "q5JsLoO0JinV",
        "colab_type": "text"
      },
      "source": [
        "### 2.2.3 查看某个词的与其他词的相似度"
      ]
    },
    {
      "cell_type": "code",
      "metadata": {
        "id": "_1UJqgBSJinV",
        "colab_type": "code",
        "colab": {
          "base_uri": "https://localhost:8080/",
          "height": 275
        },
        "outputId": "073cc9b6-c819-427c-9d75-6c9a7e3f3d57"
      },
      "source": [
        "model.most_similar('人民日报')"
      ],
      "execution_count": 9,
      "outputs": [
        {
          "output_type": "stream",
          "text": [
            "/usr/local/lib/python3.6/dist-packages/ipykernel_launcher.py:1: DeprecationWarning: Call to deprecated `most_similar` (Method will be removed in 4.0.0, use self.wv.most_similar() instead).\n",
            "  \"\"\"Entry point for launching an IPython kernel.\n",
            "/usr/local/lib/python3.6/dist-packages/gensim/matutils.py:737: FutureWarning: Conversion of the second argument of issubdtype from `int` to `np.signedinteger` is deprecated. In future, it will be treated as `np.int64 == np.dtype(int).type`.\n",
            "  if np.issubdtype(vec.dtype, np.int):\n"
          ],
          "name": "stderr"
        },
        {
          "output_type": "execute_result",
          "data": {
            "text/plain": [
              "[('光明日报', 0.8673247694969177),\n",
              " ('海外版', 0.8082146644592285),\n",
              " ('经济日报', 0.7917121648788452),\n",
              " ('年月日', 0.7912720441818237),\n",
              " ('社论', 0.7694905400276184),\n",
              " ('全国代表大会', 0.7467828989028931),\n",
              " ('批示', 0.7455558776855469),\n",
              " ('文艺报', 0.73807293176651),\n",
              " ('文汇报', 0.7371698617935181),\n",
              " ('伍绍祖', 0.7356415390968323)]"
            ]
          },
          "metadata": {
            "tags": []
          },
          "execution_count": 9
        }
      ]
    },
    {
      "cell_type": "markdown",
      "metadata": {
        "id": "YNCM4WqDJinY",
        "colab_type": "text"
      },
      "source": [
        "### 2.2.4 保存模型"
      ]
    },
    {
      "cell_type": "code",
      "metadata": {
        "id": "9r9hP2m4JinZ",
        "colab_type": "code",
        "colab": {
          "base_uri": "https://localhost:8080/",
          "height": 71
        },
        "outputId": "42b40795-570f-4e74-d01e-5b9b79d02ffe"
      },
      "source": [
        "model.save('/tmp/w2v_model')"
      ],
      "execution_count": 10,
      "outputs": [
        {
          "output_type": "stream",
          "text": [
            "/usr/local/lib/python3.6/dist-packages/smart_open/smart_open_lib.py:398: UserWarning: This function is deprecated, use smart_open.open instead. See the migration notes for details: https://github.com/RaRe-Technologies/smart_open/blob/master/README.rst#migrating-to-the-new-open-function\n",
            "  'See the migration notes for details: %s' % _MIGRATION_NOTES_URL\n"
          ],
          "name": "stderr"
        }
      ]
    },
    {
      "cell_type": "markdown",
      "metadata": {
        "id": "uqUB-cM3Jind",
        "colab_type": "text"
      },
      "source": [
        "### 2.2.5 加载模型"
      ]
    },
    {
      "cell_type": "code",
      "metadata": {
        "id": "RCf605cdJine",
        "colab_type": "code",
        "colab": {
          "base_uri": "https://localhost:8080/",
          "height": 71
        },
        "outputId": "be25d677-b3af-4598-f4b5-f614da81bb47"
      },
      "source": [
        "model_load = gensim.models.Word2Vec.load('/tmp/w2v_model')"
      ],
      "execution_count": 11,
      "outputs": [
        {
          "output_type": "stream",
          "text": [
            "/usr/local/lib/python3.6/dist-packages/smart_open/smart_open_lib.py:398: UserWarning: This function is deprecated, use smart_open.open instead. See the migration notes for details: https://github.com/RaRe-Technologies/smart_open/blob/master/README.rst#migrating-to-the-new-open-function\n",
            "  'See the migration notes for details: %s' % _MIGRATION_NOTES_URL\n"
          ],
          "name": "stderr"
        }
      ]
    },
    {
      "cell_type": "markdown",
      "metadata": {
        "id": "2mIlt3YgJinh",
        "colab_type": "text"
      },
      "source": [
        "## 3 训练数据处理\n",
        "\n"
      ]
    },
    {
      "cell_type": "code",
      "metadata": {
        "id": "YJwBOuTxJini",
        "colab_type": "code",
        "colab": {}
      },
      "source": [
        "#该函数会将语句转化为一个标准化的向量（Normalized Vector）\n",
        "def sent2vec(s):\n",
        "    \"\"\"\n",
        "    将每个句子转换会一个100的向量\n",
        "    \"\"\"\n",
        "    words = s.split()\n",
        "    M = []\n",
        "    for w in words:\n",
        "        try:\n",
        "            #M.append(embeddings_index[w])\n",
        "            M.append(model[w])\n",
        "        except:\n",
        "            continue\n",
        "    M = np.array(M)  # shape=(x,100),x是句子中词的个数，100是每个词向量的维数\n",
        "    v = M.sum(axis=0) # 维度是100，对M中的x个数求和，得到每一维度的总和\n",
        "    if type(v) != np.ndarray: \n",
        "        return np.zeros(100)\n",
        "    \n",
        "    return v / np.sqrt((v ** 2).sum()) # 正则化，最后每个句子都变为一100维的向量"
      ],
      "execution_count": 0,
      "outputs": []
    },
    {
      "cell_type": "code",
      "metadata": {
        "id": "lvkHip8DJinl",
        "colab_type": "code",
        "colab": {
          "base_uri": "https://localhost:8080/",
          "height": 88
        },
        "outputId": "cedf2fc9-8842-4481-8a8e-529a59847e11"
      },
      "source": [
        "# 对训练集和验证集使用上述函数，进行文本向量化处理\n",
        "text_s2v = [sent2vec(s) for s in tqdm(text)]\n",
        "\n",
        "# 转换成numpy array数组\n",
        "text_s2v = np.array(text_s2v)\n",
        "\n",
        "# 切分数据集\n",
        "from sklearn.model_selection import train_test_split\n",
        "x_train_w2v, x_valid_w2v, y_train, y_valid = train_test_split(text_s2v, y, \n",
        "                                                  stratify=y, \n",
        "                                                  random_state=42, \n",
        "                                                  test_size=0.1, shuffle=True)"
      ],
      "execution_count": 13,
      "outputs": [
        {
          "output_type": "stream",
          "text": [
            "  0%|          | 0/9249 [00:00<?, ?it/s]/usr/local/lib/python3.6/dist-packages/ipykernel_launcher.py:10: DeprecationWarning: Call to deprecated `__getitem__` (Method will be removed in 4.0.0, use self.wv.__getitem__() instead).\n",
            "  # Remove the CWD from sys.path while we load stuff.\n",
            "100%|██████████| 9249/9249 [00:45<00:00, 205.47it/s]\n"
          ],
          "name": "stderr"
        }
      ]
    },
    {
      "cell_type": "markdown",
      "metadata": {
        "id": "EHxEM2P0Jino",
        "colab_type": "text"
      },
      "source": [
        "## 4 调用模型进行分类"
      ]
    },
    {
      "cell_type": "code",
      "metadata": {
        "id": "LroNWNHMJino",
        "colab_type": "code",
        "colab": {}
      },
      "source": [
        "# 定义损失函数\n",
        "def multiclass_logloss(actual, predicted, eps=1e-15):\n",
        "    \"\"\"对数损失度量（Logarithmic Loss  Metric）的多分类版本。\n",
        "    :param actual: 包含actual target classes的数组\n",
        "    :param predicted: 分类预测结果矩阵, 每个类别都有一个概率\n",
        "    \"\"\"\n",
        "    # Convert 'actual' to a binary array if it's not already:\n",
        "    if len(actual.shape) == 1:\n",
        "        actual2 = np.zeros((actual.shape[0], predicted.shape[1]))\n",
        "        for i, val in enumerate(actual):\n",
        "            actual2[i, val] = 1\n",
        "        actual = actual2\n",
        "\n",
        "    clip = np.clip(predicted, eps, 1 - eps)\n",
        "    rows = actual.shape[0]\n",
        "    vsota = np.sum(actual * np.log(clip))\n",
        "    return -1.0 / rows * vsota"
      ],
      "execution_count": 0,
      "outputs": []
    },
    {
      "cell_type": "code",
      "metadata": {
        "id": "MJ5wjd5TJinr",
        "colab_type": "code",
        "colab": {
          "base_uri": "https://localhost:8080/",
          "height": 34
        },
        "outputId": "96f24875-6fbf-43d8-e377-e06e28a6ccaf"
      },
      "source": [
        "# 基于word2vec特征在一个简单的Xgboost模型上进行拟合\n",
        "clf = xgb.XGBClassifier(max_depth=7, n_estimators=200, colsample_bytree=0.8, \n",
        "                        subsample=0.8, nthread=10, learning_rate=0.1, silent=False)\n",
        "clf.fit(x_train_w2v, y_train)\n",
        "predictions = clf.predict_proba(x_valid_w2v)\n",
        "\n",
        "print (\"logloss: %0.3f \" % multiclass_logloss(y_valid, predictions))"
      ],
      "execution_count": 15,
      "outputs": [
        {
          "output_type": "stream",
          "text": [
            "logloss: 0.377 \n"
          ],
          "name": "stdout"
        }
      ]
    },
    {
      "cell_type": "markdown",
      "metadata": {
        "id": "GYdqeeQ-Jinu",
        "colab_type": "text"
      },
      "source": [
        "\n",
        "size = 100: logloss: 0.375 /0.368 "
      ]
    }
  ]
}