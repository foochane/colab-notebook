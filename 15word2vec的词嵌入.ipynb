{
 "cells": [
  {
   "cell_type": "code",
   "execution_count": 1,
   "metadata": {},
   "outputs": [],
   "source": [
    "import codecs\n",
    "import gensim\n",
    "from sklearn import  preprocessing\n",
    "from sklearn.preprocessing import LabelEncoder\n",
    "import numpy as np\n",
    "import xgboost as xgb\n",
    "from tqdm import tqdm"
   ]
  },
  {
   "cell_type": "markdown",
   "metadata": {},
   "source": [
    "##  1 数据准备"
   ]
  },
  {
   "cell_type": "code",
   "execution_count": 2,
   "metadata": {},
   "outputs": [],
   "source": [
    "# !wget https://raw.githubusercontent.com/foochane/text-classification/master/output/data_clean_split.txt"
   ]
  },
  {
   "cell_type": "code",
   "execution_count": 3,
   "metadata": {},
   "outputs": [],
   "source": [
    "# 读取数据\n",
    "labels = []\n",
    "text = []\n",
    "with codecs.open('output/data_clean_split.txt','r',encoding='utf-8') as f:\n",
    "    document_split = f.readlines()\n",
    "    for document in document_split:\n",
    "        temp = document.split('\\t')\n",
    "        labels.append(temp[0])\n",
    "        text.append(temp[1].strip())  \n",
    "\n",
    "# 标签转换为数字\n",
    "label_encoder = LabelEncoder()\n",
    "y = label_encoder.fit_transform(labels)\n",
    "\n",
    "# 将每个句子切分成单个词\n",
    "text_s2w= [s.split() for s in text]"
   ]
  },
  {
   "cell_type": "markdown",
   "metadata": {},
   "source": [
    "## 2 构建word2vec模型\n",
    "\n",
    "### 2.1 训练word2vec模型\n",
    "参数说明：\n",
    "\n",
    "min_count: 对于词频 < min_count 的单词，将舍弃（其实最合适的方法是用 UNK 符号代替，即所谓的『未登录词』，这里我们简化起见，认为此类低频词不重要，直接抛弃）\n",
    "\n",
    "workers: 可以并行执行的核心数，需要安装 Cython 才能起作用（安装 Cython 的方法很简单，直接 pip install cython）\n",
    "\n",
    "size: 词向量的维度，神经网络隐层节点数\n",
    "\n",
    "window: 目标词汇的上下文单词距目标词的最长距离，很好理解，比如 CBOW 模型是用一个词的上下文预测这个词，那这个上下文总得有个限制，如果取得太多，距离目标词太远，有些词就没啥意义了，而如果取得太少，又信息不足，所以 window 就是上下文的一个最长距离"
   ]
  },
  {
   "cell_type": "code",
   "execution_count": 4,
   "metadata": {},
   "outputs": [],
   "source": [
    "model = gensim.models.Word2Vec(text_s2w,\n",
    "                               min_count=5,\n",
    "                               workers=6,\n",
    "                               window =8,\n",
    "                               size=100)"
   ]
  },
  {
   "cell_type": "markdown",
   "metadata": {},
   "source": [
    "### 2.2 word2vec模型的简单使用"
   ]
  },
  {
   "cell_type": "code",
   "execution_count": 5,
   "metadata": {},
   "outputs": [
    {
     "name": "stdout",
     "output_type": "stream",
     "text": [
      "Found 87117 word vectors.\n"
     ]
    }
   ],
   "source": [
    "# 1 构建词建词嵌入字典\n",
    "embeddings_index = dict(zip(model.wv.index2word, model.wv.vectors))\n",
    "print('Found %s word vectors.' % len(embeddings_index))"
   ]
  },
  {
   "cell_type": "code",
   "execution_count": 6,
   "metadata": {},
   "outputs": [
    {
     "name": "stderr",
     "output_type": "stream",
     "text": [
      "/home/ubuntu/anaconda3/lib/python3.7/site-packages/ipykernel_launcher.py:2: DeprecationWarning: Call to deprecated `__getitem__` (Method will be removed in 4.0.0, use self.wv.__getitem__() instead).\n",
      "  \n"
     ]
    },
    {
     "data": {
      "text/plain": [
       "array([ 1.8342775 ,  2.1845498 ,  0.1811772 ,  0.44513613,  0.6321447 ,\n",
       "       -2.2120235 , -3.4583235 ,  2.8061318 , -0.25104186,  0.85629886,\n",
       "       -0.92454964, -1.6123239 , -0.80640805, -0.73272705, -0.74616235,\n",
       "       -3.0445638 , -0.320902  ,  1.4514409 ,  3.7497303 ,  1.3578444 ,\n",
       "        1.1719748 , -0.91839045, -2.2939498 , -0.13946047,  2.2899468 ,\n",
       "       -2.454715  ,  1.7183454 , -1.2504009 ,  0.3535927 , -0.9718751 ,\n",
       "       -1.3168051 ,  1.9108007 ,  0.7765807 , -0.9604371 ,  0.98970056,\n",
       "        0.39219838, -1.5062613 ,  3.5600126 , -1.1126146 , -1.1381696 ,\n",
       "        2.9837532 ,  0.96416277, -0.22817   ,  0.3855935 ,  0.19987127,\n",
       "        0.63912606, -1.4296261 , -3.427696  ,  0.43095294, -0.9331193 ,\n",
       "       -0.9451589 ,  0.92573446, -2.2235925 ,  0.5591363 , -0.31658825,\n",
       "       -3.301475  , -0.8763386 , -2.3563743 ,  0.62115496,  1.9578915 ,\n",
       "        2.289198  , -0.36153495,  0.21389788, -1.1329963 ,  2.2054768 ,\n",
       "        1.9896835 ,  0.5370136 ,  0.23726553, -0.44702885, -2.1753995 ,\n",
       "       -1.4699937 ,  1.1041896 ,  2.1317337 , -1.3007349 ,  1.6743377 ,\n",
       "       -1.4212701 ,  2.16132   ,  0.8019062 , -2.6263092 , -3.261361  ,\n",
       "       -1.1269482 ,  0.55484825, -0.55013037, -0.8631664 , -2.4268143 ,\n",
       "        1.0658379 , -0.82349384, -0.40932024, -0.32976934, -0.3086969 ,\n",
       "        0.5890302 , -0.43382016, -2.0109265 ,  0.57045287,  3.4783947 ,\n",
       "       -2.453562  ,  0.18799649, -0.341424  , -3.7914245 ,  1.0498884 ],\n",
       "      dtype=float32)"
      ]
     },
     "execution_count": 6,
     "metadata": {},
     "output_type": "execute_result"
    }
   ],
   "source": [
    "# 2 获取某个词的向量\n",
    "model['汽车']"
   ]
  },
  {
   "cell_type": "code",
   "execution_count": 7,
   "metadata": {},
   "outputs": [
    {
     "name": "stderr",
     "output_type": "stream",
     "text": [
      "/home/ubuntu/anaconda3/lib/python3.7/site-packages/ipykernel_launcher.py:2: DeprecationWarning: Call to deprecated `most_similar` (Method will be removed in 4.0.0, use self.wv.most_similar() instead).\n",
      "  \n"
     ]
    },
    {
     "data": {
      "text/plain": [
       "[('光明日报', 0.8853372931480408),\n",
       " ('中国青年报', 0.7971559166908264),\n",
       " ('社论', 0.7969412803649902),\n",
       " ('经济日报', 0.7926549911499023),\n",
       " ('海外版', 0.7842204570770264),\n",
       " ('年月日', 0.781338632106781),\n",
       " ('新民晚报', 0.7726690769195557),\n",
       " ('时报', 0.7552007436752319),\n",
       " ('讲话', 0.7549471855163574),\n",
       " ('中共中央国务院', 0.7518625259399414)]"
      ]
     },
     "execution_count": 7,
     "metadata": {},
     "output_type": "execute_result"
    }
   ],
   "source": [
    "# 3 查看某个词的与其他词的相似度\n",
    "model.most_similar('人民日报')"
   ]
  },
  {
   "cell_type": "code",
   "execution_count": 8,
   "metadata": {},
   "outputs": [],
   "source": [
    "# 4 保存模型\n",
    "model.save('/tmp/w2v_model')"
   ]
  },
  {
   "cell_type": "code",
   "execution_count": null,
   "metadata": {},
   "outputs": [],
   "source": [
    "# 5 加载模型\n",
    "model_load = gensim.models.Word2Vec.load('/tmp/w2v_model')"
   ]
  },
  {
   "cell_type": "markdown",
   "metadata": {},
   "source": [
    "## 3 训练数据处理\n",
    "\n"
   ]
  },
  {
   "cell_type": "code",
   "execution_count": null,
   "metadata": {},
   "outputs": [],
   "source": [
    "#该函数会将语句转化为一个标准化的向量（Normalized Vector）\n",
    "def sent2vec(s):\n",
    "    \"\"\"\n",
    "    将每个句子转换会一个100的向量\n",
    "    \"\"\"\n",
    "    words = s.split()\n",
    "    M = []\n",
    "    for w in words:\n",
    "        try:\n",
    "            #M.append(embeddings_index[w])\n",
    "            M.append(model[w])\n",
    "        except:\n",
    "            continue\n",
    "    M = np.array(M)  # shape=(x,100),x是句子中词的个数，100是每个词向量的维数\n",
    "    v = M.sum(axis=0) # 维度是100，对M中的x个数求和，得到每一维度的总和\n",
    "    if type(v) != np.ndarray:\n",
    "        return np.zeros(100)\n",
    "    return v / np.sqrt((v ** 2).sum()) # 正则化，最后每个句子都变为一100维的向量"
   ]
  },
  {
   "cell_type": "code",
   "execution_count": null,
   "metadata": {},
   "outputs": [
    {
     "name": "stderr",
     "output_type": "stream",
     "text": [
      "  0%|          | 0/9249 [00:00<?, ?it/s]/home/ubuntu/anaconda3/lib/python3.7/site-packages/ipykernel_launcher.py:11: DeprecationWarning: Call to deprecated `__getitem__` (Method will be removed in 4.0.0, use self.wv.__getitem__() instead).\n",
      "  # This is added back by InteractiveShellApp.init_path()\n",
      "100%|██████████| 9249/9249 [01:04<00:00, 144.41it/s]\n"
     ]
    }
   ],
   "source": [
    "# 对训练集和验证集使用上述函数，进行文本向量化处理\n",
    "text_s2v = [sent2vec(s) for s in tqdm(text)]\n",
    "\n",
    "# 转换成numpy array数组\n",
    "text_s2v = np.array(text_s2v)\n",
    "\n",
    "# 切分数据集\n",
    "from sklearn.model_selection import train_test_split\n",
    "x_train_w2v, x_valid_w2v, y_train, y_valid = train_test_split(text_s2v, y, \n",
    "                                                  stratify=y, \n",
    "                                                  random_state=42, \n",
    "                                                  test_size=0.1, shuffle=True)"
   ]
  },
  {
   "cell_type": "markdown",
   "metadata": {},
   "source": [
    "## 4 调用模型进行分类"
   ]
  },
  {
   "cell_type": "code",
   "execution_count": null,
   "metadata": {},
   "outputs": [],
   "source": [
    "# 定义损失函数\n",
    "def multiclass_logloss(actual, predicted, eps=1e-15):\n",
    "    \"\"\"对数损失度量（Logarithmic Loss  Metric）的多分类版本。\n",
    "    :param actual: 包含actual target classes的数组\n",
    "    :param predicted: 分类预测结果矩阵, 每个类别都有一个概率\n",
    "    \"\"\"\n",
    "    # Convert 'actual' to a binary array if it's not already:\n",
    "    if len(actual.shape) == 1:\n",
    "        actual2 = np.zeros((actual.shape[0], predicted.shape[1]))\n",
    "        for i, val in enumerate(actual):\n",
    "            actual2[i, val] = 1\n",
    "        actual = actual2\n",
    "\n",
    "    clip = np.clip(predicted, eps, 1 - eps)\n",
    "    rows = actual.shape[0]\n",
    "    vsota = np.sum(actual * np.log(clip))\n",
    "    return -1.0 / rows * vsota"
   ]
  },
  {
   "cell_type": "code",
   "execution_count": null,
   "metadata": {},
   "outputs": [],
   "source": [
    "# 基于word2vec特征在一个简单的Xgboost模型上进行拟合\n",
    "clf = xgb.XGBClassifier(max_depth=7, n_estimators=200, colsample_bytree=0.8, \n",
    "                        subsample=0.8, nthread=10, learning_rate=0.1, silent=False)\n",
    "clf.fit(x_train_w2v, y_train)\n",
    "predictions = clf.predict_proba(x_valid_w2v)\n",
    "\n",
    "print (\"logloss: %0.3f \" % multiclass_logloss(y_valid, predictions))"
   ]
  },
  {
   "cell_type": "markdown",
   "metadata": {},
   "source": [
    "\n",
    "size = 100: logloss: 0.375 /0.368 "
   ]
  }
 ],
 "metadata": {
  "kernelspec": {
   "display_name": "Python 3",
   "language": "python",
   "name": "python3"
  },
  "language_info": {
   "codemirror_mode": {
    "name": "ipython",
    "version": 3
   },
   "file_extension": ".py",
   "mimetype": "text/x-python",
   "name": "python",
   "nbconvert_exporter": "python",
   "pygments_lexer": "ipython3",
   "version": "3.7.3"
  }
 },
 "nbformat": 4,
 "nbformat_minor": 2
}
