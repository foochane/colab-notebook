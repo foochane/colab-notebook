{
 "cells": [
  {
   "cell_type": "code",
   "execution_count": 16,
   "metadata": {},
   "outputs": [
    {
     "name": "stdout",
     "output_type": "stream",
     "text": [
      "数据集行数:\n",
      "5000 data/bioCorpus_5000.txt\n",
      "======\n",
      "数据集前10行\n",
      "formate assay in body fluids  application in methanol poisoning.\n",
      "delineation of the intimate details of the backbone conformation of pyridinenucleotide coenzymes in aqueous solution.\n",
      "metal substitutions incarbonic anhydrase  a halide ion probe study.\n",
      "effect of chloroquine on cultured fibroblasts  release of lysosomal hydrolasesand inhibition of their uptake.\n",
      "atomic models for the polypeptide backbones of myohemerythrin and hemerythrin.\n",
      "studies of oxygen binding energy to hemoglobin molecule.\n",
      "maturation of the adrenal medulla--IV\n",
      "effects of morphine.\n",
      "comparison between procaine and isocarboxazid metabolism in vitro by a livermicrosomal amidase-esterase.\n",
      "radiochemical assay of glutathione S-epoxide transferase and its enhancement byphenobarbital in rat liver in vivo.\n"
     ]
    }
   ],
   "source": [
    "\n",
    "!echo '数据集行数:'\n",
    "!wc -l 'data/bioCorpus_5000.txt'\n",
    "!echo '======'\n",
    "!echo '数据集前10行'\n",
    "!head -10 'data/bioCorpus_5000.txt'\n"
   ]
  },
  {
   "cell_type": "code",
   "execution_count": null,
   "metadata": {},
   "outputs": [],
   "source": []
  },
  {
   "cell_type": "code",
   "execution_count": 17,
   "metadata": {},
   "outputs": [],
   "source": [
    "from gensim.models import word2vec "
   ]
  },
  {
   "cell_type": "code",
   "execution_count": 18,
   "metadata": {},
   "outputs": [],
   "source": [
    "# 用生成器的方式读取文件里的句子# 适合读取大容量文件，而不用加载到内存\n",
    "class MySentences(object):\n",
    "    def __init__(self, fname):\n",
    "        self.fname = fname    \n",
    "    def __iter__(self):\n",
    "        for line in open(self.fname,'r'):     \n",
    "            yield line.split()"
   ]
  },
  {
   "cell_type": "code",
   "execution_count": 19,
   "metadata": {},
   "outputs": [],
   "source": [
    "# 模型训练函数\n",
    "def w2vTrain(f_input, model_output):         \n",
    "    sentences = MySentences(DataDir+f_input)\n",
    "    w2v_model = word2vec.Word2Vec(sentences, \n",
    "                                  min_count = MIN_COUNT, \n",
    "                                  workers = CPU_NUM, \n",
    "                                  size = VEC_SIZE,\n",
    "                                  window = CONTEXT_WINDOW\n",
    "                                 )\n",
    "\n",
    "    w2v_model.save(ModelDir+model_output)"
   ]
  },
  {
   "cell_type": "code",
   "execution_count": 23,
   "metadata": {},
   "outputs": [],
   "source": [
    "# 训练\n",
    "DataDir = \"./data/\"\n",
    "ModelDir = \"./ipynb_garbage_files/\"\n",
    "MIN_COUNT = 4\n",
    "CPU_NUM = 2 \n",
    "# 需要预先安装 Cython 以支持并行\n",
    "VEC_SIZE = 20\n",
    "CONTEXT_WINDOW = 5 # 提取目标词上下文距离最长5个词\n",
    "f_input = \"bioCorpus_5000.txt\"\n",
    "model_output = \"test_w2v_model\"\n",
    "\n",
    "w2vTrain(f_input, model_output)"
   ]
  },
  {
   "cell_type": "code",
   "execution_count": null,
   "metadata": {},
   "outputs": [],
   "source": []
  },
  {
   "cell_type": "code",
   "execution_count": 24,
   "metadata": {},
   "outputs": [],
   "source": [
    "w2v_model = word2vec.Word2Vec.load(ModelDir+model_output)"
   ]
  },
  {
   "cell_type": "code",
   "execution_count": null,
   "metadata": {},
   "outputs": [],
   "source": []
  },
  {
   "cell_type": "code",
   "execution_count": 25,
   "metadata": {},
   "outputs": [
    {
     "name": "stderr",
     "output_type": "stream",
     "text": [
      "/home/ubuntu/anaconda3/lib/python3.7/site-packages/ipykernel_launcher.py:1: DeprecationWarning: Call to deprecated `most_similar` (Method will be removed in 4.0.0, use self.wv.most_similar() instead).\n",
      "  \"\"\"Entry point for launching an IPython kernel.\n"
     ]
    },
    {
     "data": {
      "text/plain": [
       "[('blocking', 0.9992074966430664),\n",
       " ('human', 0.9991682767868042),\n",
       " ('response', 0.9990294575691223),\n",
       " ('inhibitor', 0.999004602432251),\n",
       " ('and', 0.9989744424819946),\n",
       " ('vitro', 0.9989644885063171),\n",
       " ('activity', 0.998931884765625),\n",
       " ('from', 0.9989229440689087),\n",
       " ('during', 0.9989050626754761),\n",
       " ('system', 0.998888373374939)]"
      ]
     },
     "execution_count": 25,
     "metadata": {},
     "output_type": "execute_result"
    }
   ],
   "source": [
    "w2v_model.most_similar('body')"
   ]
  },
  {
   "cell_type": "code",
   "execution_count": 26,
   "metadata": {},
   "outputs": [
    {
     "name": "stderr",
     "output_type": "stream",
     "text": [
      "/home/ubuntu/anaconda3/lib/python3.7/site-packages/ipykernel_launcher.py:1: DeprecationWarning: Call to deprecated `most_similar` (Method will be removed in 4.0.0, use self.wv.most_similar() instead).\n",
      "  \"\"\"Entry point for launching an IPython kernel.\n"
     ]
    },
    {
     "data": {
      "text/plain": [
       "[('at', 0.9995989203453064),\n",
       " ('assay', 0.9995205402374268),\n",
       " ('The', 0.9994934797286987),\n",
       " ('a', 0.9994790554046631),\n",
       " ('cytochrome', 0.9994041919708252),\n",
       " ('cells', 0.9993923306465149),\n",
       " ('acid', 0.9993584752082825),\n",
       " ('letter', 0.9993261694908142),\n",
       " ('plasma', 0.9993071556091309),\n",
       " ('an', 0.9992932081222534)]"
      ]
     },
     "execution_count": 26,
     "metadata": {},
     "output_type": "execute_result"
    }
   ],
   "source": [
    "w2v_model.most_similar('heart') \n"
   ]
  },
  {
   "cell_type": "code",
   "execution_count": 30,
   "metadata": {},
   "outputs": [],
   "source": [
    "# 停止词\n",
    "from nltk.corpus import stopwords\n",
    "StopWords = stopwords.words('english')"
   ]
  },
  {
   "cell_type": "code",
   "execution_count": 31,
   "metadata": {},
   "outputs": [
    {
     "data": {
      "text/plain": [
       "['i',\n",
       " 'me',\n",
       " 'my',\n",
       " 'myself',\n",
       " 'we',\n",
       " 'our',\n",
       " 'ours',\n",
       " 'ourselves',\n",
       " 'you',\n",
       " \"you're\",\n",
       " \"you've\",\n",
       " \"you'll\",\n",
       " \"you'd\",\n",
       " 'your',\n",
       " 'yours',\n",
       " 'yourself',\n",
       " 'yourselves',\n",
       " 'he',\n",
       " 'him',\n",
       " 'his']"
      ]
     },
     "execution_count": 31,
     "metadata": {},
     "output_type": "execute_result"
    }
   ],
   "source": [
    "StopWords[:20]"
   ]
  },
  {
   "cell_type": "code",
   "execution_count": 32,
   "metadata": {},
   "outputs": [],
   "source": [
    "# 重新训练# 模型训练函数\n",
    "def w2vTrain_removeStopWords(f_input, model_output):         \n",
    "    sentences = list(MySentences(DataDir+f_input))    \n",
    "    for idx,sentence in enumerate(sentences):\n",
    "\n",
    "        sentence = [w for w in sentence if w not in StopWords]\n",
    "\n",
    "        sentences[idx]=sentence\n",
    "\n",
    "    w2v_model = word2vec.Word2Vec(sentences, \n",
    "                                  min_count = MIN_COUNT, \n",
    "                                  workers = CPU_NUM, \n",
    "                                  size = VEC_SIZE)\n",
    "\n",
    "    w2v_model.save(ModelDir+model_output)\n",
    "\n",
    "w2vTrain_removeStopWords(f_input, model_output)\n",
    "\n",
    "w2v_model = word2vec.Word2Vec.load(ModelDir+model_output)"
   ]
  },
  {
   "cell_type": "code",
   "execution_count": 36,
   "metadata": {},
   "outputs": [
    {
     "name": "stderr",
     "output_type": "stream",
     "text": [
      "/home/ubuntu/anaconda3/lib/python3.7/site-packages/ipykernel_launcher.py:1: DeprecationWarning: Call to deprecated `most_similar` (Method will be removed in 4.0.0, use self.wv.most_similar() instead).\n",
      "  \"\"\"Entry point for launching an IPython kernel.\n"
     ]
    },
    {
     "data": {
      "text/plain": [
       "[('blocking', 0.9652001261711121),\n",
       " ('inhibitor', 0.9612349271774292),\n",
       " ('human', 0.9593227505683899),\n",
       " ('response', 0.9581257104873657),\n",
       " ('vitro', 0.9542000889778137),\n",
       " ('different', 0.952316403388977),\n",
       " ('function', 0.9517786502838135),\n",
       " ('system', 0.950149416923523),\n",
       " ('action', 0.9496978521347046),\n",
       " ('renal', 0.9496498107910156)]"
      ]
     },
     "execution_count": 36,
     "metadata": {},
     "output_type": "execute_result"
    }
   ],
   "source": [
    "w2v_model.most_similar('body')\n",
    "\n",
    "# 结果一般\n",
    "# [('relationship', 0.9543654918670654),\n",
    "#   ('plasma', 0.9490970373153687),\n",
    "\n",
    "#  ('two', 0.9482829570770264),\n",
    "\n",
    "#  ('blood', 0.9451138973236084),\n",
    "\n",
    "#  ('structure', 0.9415417909622192),\n",
    "\n",
    "#  ('properties', 0.9410394430160522),\n",
    "\n",
    "#  ('human', 0.9409817457199097),\n",
    "\n",
    "#  ('cardiac', 0.9402023553848267),\n",
    "\n",
    "#  ('effect', 0.9401187896728516),\n",
    "\n",
    "#  ('response', 0.9397702217102051)]"
   ]
  },
  {
   "cell_type": "code",
   "execution_count": 37,
   "metadata": {},
   "outputs": [
    {
     "name": "stderr",
     "output_type": "stream",
     "text": [
      "/home/ubuntu/anaconda3/lib/python3.7/site-packages/ipykernel_launcher.py:1: DeprecationWarning: Call to deprecated `most_similar` (Method will be removed in 4.0.0, use self.wv.most_similar() instead).\n",
      "  \"\"\"Entry point for launching an IPython kernel.\n"
     ]
    },
    {
     "data": {
      "text/plain": [
       "[('The', 0.9849681258201599),\n",
       " ('assay', 0.9808926582336426),\n",
       " ('cells', 0.9777134656906128),\n",
       " ('blood', 0.9770573377609253),\n",
       " ('beta', 0.9767102599143982),\n",
       " ('acid', 0.9757313132286072),\n",
       " ('determination', 0.9754316806793213),\n",
       " ('response', 0.9754077196121216),\n",
       " ('changes', 0.9747826457023621),\n",
       " ('plasma', 0.9747099876403809)]"
      ]
     },
     "execution_count": 37,
     "metadata": {},
     "output_type": "execute_result"
    }
   ],
   "source": [
    "w2v_model.most_similar('heart')"
   ]
  },
  {
   "cell_type": "code",
   "execution_count": null,
   "metadata": {},
   "outputs": [],
   "source": []
  }
 ],
 "metadata": {
  "kernelspec": {
   "display_name": "Python 3",
   "language": "python",
   "name": "python3"
  },
  "language_info": {
   "codemirror_mode": {
    "name": "ipython",
    "version": 3
   },
   "file_extension": ".py",
   "mimetype": "text/x-python",
   "name": "python",
   "nbconvert_exporter": "python",
   "pygments_lexer": "ipython3",
   "version": "3.7.3"
  }
 },
 "nbformat": 4,
 "nbformat_minor": 2
}
