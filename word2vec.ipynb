{
 "cells": [
  {
   "cell_type": "markdown",
   "metadata": {},
   "source": [
    "## 查看数据"
   ]
  },
  {
   "cell_type": "code",
   "execution_count": 1,
   "metadata": {},
   "outputs": [
    {
     "name": "stdout",
     "output_type": "stream",
     "text": [
      "数据集行数:\n",
      "5000 data/bioCorpus_5000.txt\n",
      "======\n",
      "数据集前10行\n",
      "formate assay in body fluids  application in methanol poisoning.\n",
      "delineation of the intimate details of the backbone conformation of pyridinenucleotide coenzymes in aqueous solution.\n",
      "metal substitutions incarbonic anhydrase  a halide ion probe study.\n",
      "effect of chloroquine on cultured fibroblasts  release of lysosomal hydrolasesand inhibition of their uptake.\n",
      "atomic models for the polypeptide backbones of myohemerythrin and hemerythrin.\n",
      "studies of oxygen binding energy to hemoglobin molecule.\n",
      "maturation of the adrenal medulla--IV\n",
      "effects of morphine.\n",
      "comparison between procaine and isocarboxazid metabolism in vitro by a livermicrosomal amidase-esterase.\n",
      "radiochemical assay of glutathione S-epoxide transferase and its enhancement byphenobarbital in rat liver in vivo.\n"
     ]
    }
   ],
   "source": [
    "\n",
    "!echo '数据集行数:'\n",
    "!wc -l 'data/bioCorpus_5000.txt'\n",
    "!echo '======'\n",
    "!echo '数据集前10行'\n",
    "!head -10 'data/bioCorpus_5000.txt'\n"
   ]
  },
  {
   "cell_type": "markdown",
   "metadata": {},
   "source": [
    "## 训练模型"
   ]
  },
  {
   "cell_type": "code",
   "execution_count": 2,
   "metadata": {},
   "outputs": [],
   "source": [
    "from gensim.models import word2vec "
   ]
  },
  {
   "cell_type": "code",
   "execution_count": 3,
   "metadata": {},
   "outputs": [],
   "source": [
    "# 用生成器的方式读取文件里的句子\n",
    "# 适合读取大容量文件，而不用加载到内存\n",
    "class MySentences(object):\n",
    "    def __init__(self, fname):\n",
    "        self.fname = fname    \n",
    "    def __iter__(self):\n",
    "        for line in open(self.fname,'r'):     \n",
    "            yield line.split()"
   ]
  },
  {
   "cell_type": "code",
   "execution_count": 4,
   "metadata": {},
   "outputs": [],
   "source": [
    "# 模型训练函数\n",
    "def w2vTrain(f_input, model_output):         \n",
    "    sentences = MySentences(DataDir+f_input)\n",
    "    w2v_model = word2vec.Word2Vec(sentences, \n",
    "                                  min_count = MIN_COUNT, \n",
    "                                  workers = CPU_NUM, \n",
    "                                  size = VEC_SIZE,\n",
    "                                  window = CONTEXT_WINDOW\n",
    "                                 )\n",
    "\n",
    "    w2v_model.save(ModelDir+model_output)"
   ]
  },
  {
   "cell_type": "markdown",
   "metadata": {},
   "source": [
    "### 参数说明：\n",
    "\n",
    "min_count: 对于词频 < min_count 的单词，将舍弃（其实最合适的方法是用 UNK 符号代替，即所谓的『未登录词』，这里我们简化起见，认为此类低频词不重要，直接抛弃）\n",
    "\n",
    "workers: 可以并行执行的核心数，需要安装 Cython 才能起作用（安装 Cython 的方法很简单，直接 pip install cython）\n",
    "\n",
    "size: 词向量的维度，即参考资料[3.]所提到的神经网络隐层节点数\n",
    "\n",
    "window: 目标词汇的上下文单词距目标词的最长距离，很好理解，比如 CBOW 模型是用一个词的上下文预测这个词，那这个上下文总得有个限制，如果取得太多，距离目标词太远，有些词就没啥意义了，而如果取得太少，又信息不足，所以 window 就是上下文的一个最长距离"
   ]
  },
  {
   "cell_type": "code",
   "execution_count": 5,
   "metadata": {},
   "outputs": [],
   "source": [
    "# 训练\n",
    "DataDir = \"./data/\"\n",
    "ModelDir = \"./ipynb_garbage_files/\"\n",
    "MIN_COUNT = 4\n",
    "CPU_NUM = 2 \n",
    "# 需要预先安装 Cython 以支持并行\n",
    "VEC_SIZE = 20\n",
    "CONTEXT_WINDOW = 5 # 提取目标词上下文距离最长5个词\n",
    "f_input = \"bioCorpus_5000.txt\"\n",
    "model_output = \"test_w2v_model\"\n",
    "\n",
    "w2vTrain(f_input, model_output)"
   ]
  },
  {
   "cell_type": "markdown",
   "metadata": {},
   "source": [
    "## 模型评估"
   ]
  },
  {
   "cell_type": "code",
   "execution_count": 6,
   "metadata": {},
   "outputs": [],
   "source": [
    "w2v_model = word2vec.Word2Vec.load(ModelDir+model_output)"
   ]
  },
  {
   "cell_type": "code",
   "execution_count": null,
   "metadata": {},
   "outputs": [],
   "source": []
  },
  {
   "cell_type": "code",
   "execution_count": 7,
   "metadata": {},
   "outputs": [
    {
     "name": "stderr",
     "output_type": "stream",
     "text": [
      "/home/ubuntu/anaconda3/lib/python3.7/site-packages/ipykernel_launcher.py:1: DeprecationWarning: Call to deprecated `most_similar` (Method will be removed in 4.0.0, use self.wv.most_similar() instead).\n",
      "  \"\"\"Entry point for launching an IPython kernel.\n"
     ]
    },
    {
     "data": {
      "text/plain": [
       "[('adrenergic', 0.9992793798446655),\n",
       " ('the', 0.9990754127502441),\n",
       " ('its', 0.9990279674530029),\n",
       " ('a', 0.9990085363388062),\n",
       " ('mice', 0.9990078210830688),\n",
       " ('studies', 0.9990071058273315),\n",
       " ('plasma', 0.9989837408065796),\n",
       " ('human', 0.9989758729934692),\n",
       " ('metabolic', 0.9989551305770874),\n",
       " ('purification', 0.9989367723464966)]"
      ]
     },
     "execution_count": 7,
     "metadata": {},
     "output_type": "execute_result"
    }
   ],
   "source": [
    "w2v_model.most_similar('body')"
   ]
  },
  {
   "cell_type": "code",
   "execution_count": 8,
   "metadata": {},
   "outputs": [
    {
     "name": "stderr",
     "output_type": "stream",
     "text": [
      "/home/ubuntu/anaconda3/lib/python3.7/site-packages/ipykernel_launcher.py:1: DeprecationWarning: Call to deprecated `most_similar` (Method will be removed in 4.0.0, use self.wv.most_similar() instead).\n",
      "  \"\"\"Entry point for launching an IPython kernel.\n"
     ]
    },
    {
     "data": {
      "text/plain": [
       "[('respiratory', 0.9997044205665588),\n",
       " ('in', 0.999563992023468),\n",
       " ('liver', 0.9995449781417847),\n",
       " ('beta', 0.9995213747024536),\n",
       " ('effect', 0.99949049949646),\n",
       " ('by', 0.9994483590126038),\n",
       " ('from', 0.9994480013847351),\n",
       " ('cells.', 0.9994244575500488),\n",
       " ('synthesis', 0.9994019269943237),\n",
       " ('to', 0.9993903636932373)]"
      ]
     },
     "execution_count": 8,
     "metadata": {},
     "output_type": "execute_result"
    }
   ],
   "source": [
    "w2v_model.most_similar('heart') \n"
   ]
  },
  {
   "cell_type": "markdown",
   "metadata": {},
   "source": [
    "## 模型调优\n",
    "\n",
    "1. 调节参数，比如 vec_size 设置的太小，导致这 20 个维度不足以 capture单词间不同的信息，所以我们需要继续调整超参数\n",
    "\n",
    "2. 数据集较小，因此停止词占据了太多信息量\n",
    "\n",
    "下面去除停止词，在来"
   ]
  },
  {
   "cell_type": "code",
   "execution_count": 9,
   "metadata": {},
   "outputs": [],
   "source": [
    "# 停止词\n",
    "from nltk.corpus import stopwords\n",
    "StopWords = stopwords.words('english')"
   ]
  },
  {
   "cell_type": "code",
   "execution_count": 10,
   "metadata": {},
   "outputs": [
    {
     "data": {
      "text/plain": [
       "['i',\n",
       " 'me',\n",
       " 'my',\n",
       " 'myself',\n",
       " 'we',\n",
       " 'our',\n",
       " 'ours',\n",
       " 'ourselves',\n",
       " 'you',\n",
       " \"you're\",\n",
       " \"you've\",\n",
       " \"you'll\",\n",
       " \"you'd\",\n",
       " 'your',\n",
       " 'yours',\n",
       " 'yourself',\n",
       " 'yourselves',\n",
       " 'he',\n",
       " 'him',\n",
       " 'his']"
      ]
     },
     "execution_count": 10,
     "metadata": {},
     "output_type": "execute_result"
    }
   ],
   "source": [
    "StopWords[:20]"
   ]
  },
  {
   "cell_type": "code",
   "execution_count": 11,
   "metadata": {},
   "outputs": [],
   "source": [
    "# 重新训练# 模型训练函数\n",
    "def w2vTrain_removeStopWords(f_input, model_output):         \n",
    "    sentences = list(MySentences(DataDir+f_input))    \n",
    "    for idx,sentence in enumerate(sentences):\n",
    "\n",
    "        sentence = [w for w in sentence if w not in StopWords]\n",
    "\n",
    "        sentences[idx]=sentence\n",
    "\n",
    "    w2v_model = word2vec.Word2Vec(sentences, \n",
    "                                  min_count = MIN_COUNT, \n",
    "                                  workers = CPU_NUM, \n",
    "                                  size = VEC_SIZE)\n",
    "\n",
    "    w2v_model.save(ModelDir+model_output)\n",
    "\n",
    "w2vTrain_removeStopWords(f_input, model_output)\n",
    "\n",
    "w2v_model = word2vec.Word2Vec.load(ModelDir+model_output)"
   ]
  },
  {
   "cell_type": "code",
   "execution_count": 12,
   "metadata": {},
   "outputs": [
    {
     "name": "stderr",
     "output_type": "stream",
     "text": [
      "/home/ubuntu/anaconda3/lib/python3.7/site-packages/ipykernel_launcher.py:1: DeprecationWarning: Call to deprecated `most_similar` (Method will be removed in 4.0.0, use self.wv.most_similar() instead).\n",
      "  \"\"\"Entry point for launching an IPython kernel.\n"
     ]
    },
    {
     "data": {
      "text/plain": [
       "[('adrenergic', 0.9358120560646057),\n",
       " ('affinity', 0.9273056983947754),\n",
       " ('mice', 0.9262033700942993),\n",
       " ('human', 0.9209858179092407),\n",
       " ('blood', 0.9197221994400024),\n",
       " ('sodium', 0.9197088479995728),\n",
       " ('cardiac', 0.9190305471420288),\n",
       " ('studies', 0.917290210723877),\n",
       " ('plasma', 0.9153444170951843),\n",
       " ('isolated', 0.9125454425811768)]"
      ]
     },
     "execution_count": 12,
     "metadata": {},
     "output_type": "execute_result"
    }
   ],
   "source": [
    "w2v_model.most_similar('body')\n",
    "\n",
    "# 结果一般\n",
    "# [('relationship', 0.9543654918670654),\n",
    "#   ('plasma', 0.9490970373153687),\n",
    "\n",
    "#  ('two', 0.9482829570770264),\n",
    "\n",
    "#  ('blood', 0.9451138973236084),\n",
    "\n",
    "#  ('structure', 0.9415417909622192),\n",
    "\n",
    "#  ('properties', 0.9410394430160522),\n",
    "\n",
    "#  ('human', 0.9409817457199097),\n",
    "\n",
    "#  ('cardiac', 0.9402023553848267),\n",
    "\n",
    "#  ('effect', 0.9401187896728516),\n",
    "\n",
    "#  ('response', 0.9397702217102051)]"
   ]
  },
  {
   "cell_type": "code",
   "execution_count": 13,
   "metadata": {},
   "outputs": [
    {
     "name": "stderr",
     "output_type": "stream",
     "text": [
      "/home/ubuntu/anaconda3/lib/python3.7/site-packages/ipykernel_launcher.py:1: DeprecationWarning: Call to deprecated `most_similar` (Method will be removed in 4.0.0, use self.wv.most_similar() instead).\n",
      "  \"\"\"Entry point for launching an IPython kernel.\n"
     ]
    },
    {
     "data": {
      "text/plain": [
       "[('respiratory', 0.9833990931510925),\n",
       " ('use', 0.967116117477417),\n",
       " ('effect', 0.9670897722244263),\n",
       " ('liver', 0.9662567377090454),\n",
       " ('serum', 0.965541422367096),\n",
       " ('beta', 0.9634912014007568),\n",
       " ('inhibition', 0.9626436233520508),\n",
       " ('studies', 0.9618862271308899),\n",
       " ('oxygen', 0.9611330032348633),\n",
       " ('action', 0.9603637456893921)]"
      ]
     },
     "execution_count": 13,
     "metadata": {},
     "output_type": "execute_result"
    }
   ],
   "source": [
    "w2v_model.most_similar('heart')"
   ]
  },
  {
   "cell_type": "code",
   "execution_count": 16,
   "metadata": {},
   "outputs": [
    {
     "data": {
      "text/plain": [
       "array([[-0.04432453,  0.14793128, -0.2648956 , ...,  0.20970087,\n",
       "         0.29673585, -0.02161907],\n",
       "       [-0.00896221,  0.0889053 , -0.1537925 , ...,  0.12604086,\n",
       "         0.16731   , -0.01607072],\n",
       "       [-0.00063231,  0.07445265, -0.1819088 , ...,  0.15033329,\n",
       "         0.15327007, -0.00885514],\n",
       "       ...,\n",
       "       [-0.01280354,  0.00303587, -0.0143146 , ...,  0.01704073,\n",
       "         0.03326512, -0.01437898],\n",
       "       [ 0.00781064,  0.01315594,  0.00315767, ...,  0.00974985,\n",
       "         0.01723483, -0.00123381],\n",
       "       [ 0.01814329, -0.01293619,  0.00404376, ...,  0.03012145,\n",
       "        -0.00267913, -0.01139108]], dtype=float32)"
      ]
     },
     "execution_count": 16,
     "metadata": {},
     "output_type": "execute_result"
    }
   ],
   "source": [
    "w2v_model.wv.vectors"
   ]
  },
  {
   "cell_type": "code",
   "execution_count": 19,
   "metadata": {},
   "outputs": [
    {
     "name": "stderr",
     "output_type": "stream",
     "text": [
      "100%|██████████| 10000/10000 [00:00<00:00, 2195740.76it/s]\n"
     ]
    }
   ],
   "source": [
    "from tqdm import tqdm\n",
    "for i in tqdm(range(10000)):\n",
    "     a=1"
   ]
  },
  {
   "cell_type": "code",
   "execution_count": null,
   "metadata": {},
   "outputs": [],
   "source": []
  }
 ],
 "metadata": {
  "kernelspec": {
   "display_name": "Python 3",
   "language": "python",
   "name": "python3"
  },
  "language_info": {
   "codemirror_mode": {
    "name": "ipython",
    "version": 3
   },
   "file_extension": ".py",
   "mimetype": "text/x-python",
   "name": "python",
   "nbconvert_exporter": "python",
   "pygments_lexer": "ipython3",
   "version": "3.7.3"
  }
 },
 "nbformat": 4,
 "nbformat_minor": 2
}
